{
  "nbformat": 4,
  "nbformat_minor": 0,
  "metadata": {
    "colab": {
      "provenance": []
    },
    "kernelspec": {
      "name": "python3",
      "display_name": "Python 3"
    },
    "language_info": {
      "name": "python"
    }
  },
  "cells": [
    {
      "cell_type": "markdown",
      "source": [
        "# THEORY QUESTIONS"
      ],
      "metadata": {
        "id": "A_v9OONLOQDk"
      }
    },
    {
      "cell_type": "markdown",
      "source": [
        "1. What is the difference between a function and a method in Python?\n",
        " - A function in Python is a block of reusable code defined using def and can be called independently, taking arguments and returning results to perform specific tasks.\n",
        "\n",
        " Example:\n",
        "\n",
        "def greet(name):\n",
        "\n",
        "  return f\"Hello, {name}\"\n",
        "\n",
        "greet(\"Alice\")\n",
        "\n",
        " - A method is similar to a function but is associated with an object and called on that object, usually modifying or accessing the object’s internal data or behavior.\n",
        "\n",
        " Example:\n",
        "\n",
        "class Person:\n",
        "\n",
        "   def greet(self):\n",
        "\n",
        "   return \"Hello\"\n",
        "\n",
        "  p = Person()\n",
        "\n",
        "  p.greet()\n",
        "\n",
        "2.  Explain the concept of function arguments and parameters in Python.\n",
        " - In Python, parameters are the variable names listed in a function’s definition that act as placeholders for the values the function expects to receive.\n",
        "\n",
        " - Arguments are the actual values passed to the function when it is called, which are assigned to the corresponding parameters to perform operations.\n",
        "\n",
        "  Example:\n",
        "\n",
        "def greet(name):  # 'name' is a parameter\n",
        "\n",
        "   print(f\"Hello, {name}!\")\n",
        "\n",
        "greet(\"Alice\")     # \"Alice\" is the argument\n",
        "\n",
        "3.  What are the different ways to define and call a function in Python?\n",
        " - Ways to Define a Function:\n",
        "\n",
        "       - Standard function using def:\n",
        "\n",
        "          def greet(name):\n",
        "\n",
        "          return \"Hello \" + name\n",
        "\n",
        "       - Function with default parameters:\n",
        "\n",
        "          def greet(name=\"User\"):\n",
        "\n",
        "          return \"Hello \" + name\n",
        "\n",
        "      - unction with variable arguments (*args, **kwargs):\n",
        "\n",
        "          def add(*numbers):\n",
        "\n",
        "          return sum(numbers)\n",
        "\n",
        "          def show_info(**data):\n",
        "          \n",
        "          print(data)\n",
        "\n",
        "      - Lambda (anonymous) function:\n",
        "\n",
        "         square = lambda x: x * x\n",
        "\n",
        " - Ways to Call a Function:\n",
        "\n",
        "      - Positional arguments:\n",
        "\n",
        "        greet(\"Alice\")\n",
        "\n",
        "      - Keyword arguments:\n",
        "\n",
        "         greet(name=\"Alice\")\n",
        "\n",
        "      - Default arguments (use default if no value given):\n",
        "\n",
        "        greet()  # Uses \"User\" as default\n",
        "\n",
        "      - Unpacking with *args and **kwargs:\n",
        "\n",
        "         nums = [1, 2, 3]\n",
        "\n",
        "         add(*nums)\n",
        "\n",
        "         info = {\"name\": \"Bob\", \"age\": 25}\n",
        "\n",
        "          show_info(**info)\n",
        "\n",
        "4. What is the purpose of the `return` statement in a Python function?\n",
        " - The return statement in a Python function is used to send a result back to the caller, allowing the function to pass data after execution.\n",
        "\n",
        " - It also ends the function’s execution, so any code written after return inside the function will not be executed.\n",
        "\n",
        " Example:\n",
        "\n",
        "def add(a, b):\n",
        "\n",
        "   return a + b\n",
        "\n",
        "result = add(3, 5)\n",
        "\n",
        "print(result)  # Output: 8\n",
        "\n",
        "5. What are iterators in Python and how do they differ from iterables?\n",
        " - n Python, an iterator is an object that implements the __iter__() and __next__() methods, allowing you to traverse through all the elements one at a time.\n",
        "\n",
        " - An iterable is any object capable of returning its members one at a time using an iterator (e.g., lists, strings, tuples), but it doesn't itself implement __next__() unless explicitly turned into an iterator using iter().\n",
        "\n",
        "   Key Difference:\n",
        "     - Iterable: Can be looped over (e.g., in a for loop).\n",
        "\n",
        "     - Iterator: The actual object that performs iteration using next().\n",
        "\n",
        "  Example:\n",
        "\n",
        "     iterable = [1, 2, 3]        # Iterable\n",
        "\n",
        "     iterator = iter(iterable)   # Now it's an iterator\n",
        "\n",
        "     print(next(iterator))       # Outputs: 1\n",
        "\n",
        "6. Explain the concept of generators in Python and how they are defined\n",
        " - Concept of Generators in Python:\n",
        "   Generators are a type of iterable in Python, like lists or tuples, but instead of storing all the values in memory, they generate values on the fly using a special function. This makes them memory-efficient and ideal for working with large datasets or infinite sequences.\n",
        "\n",
        "     Generators allow you to iterate over data without computing the entire sequence at once.\n",
        "\n",
        " - How Generators Are Defined:\n",
        "   Generators are defined using a function with the yield keyword instead of return.\n",
        "\n",
        "     Syntax Example:\n",
        "  \n",
        "     def count_up_to(max):\n",
        "\n",
        "      count = 1\n",
        "\n",
        "      while count <= max:\n",
        "\n",
        "      yield count\n",
        "\n",
        "      count += 1\n",
        "\n",
        "   This function returns a generator object, not the actual values. You can get the values using a loop:\n",
        "\n",
        "   for num in count_up_to(5):\n",
        "\n",
        "    print(num)\n",
        "\n",
        "    - Output:\n",
        "\n",
        "      1\n",
        "\n",
        "      2\n",
        "\n",
        "      3\n",
        "  \n",
        "      4\n",
        "  \n",
        "      5\n",
        "\n",
        "Example:\n",
        "\n",
        "def count_up_to(n):\n",
        "\n",
        "  i = 1\n",
        "\n",
        "  while i <= n:\n",
        "\n",
        "  yield i\n",
        "\n",
        "  i += 1\n",
        "\n",
        "gen = count_up_to(3)\n",
        "\n",
        "print(next(gen))  # 1\n",
        "\n",
        "print(next(gen))  # 2\n",
        "\n",
        "print(next(gen))  # 3\n",
        "\n",
        "7. What are the advantages of using generators over regular functions\n",
        " - Memory Efficient: Generators yield items one at a time, avoiding storage of the entire dataset in memory.\n",
        "\n",
        " - Faster Startup: They start execution immediately without waiting to generate all values.\n",
        "\n",
        " - Lazy Evaluation: Values are generated only when needed, reducing processing time.\n",
        "\n",
        " - Infinite Sequences: Ideal for working with streams or infinite data.\n",
        "\n",
        " - State Retention: Automatically saves function state between yield calls.\n",
        "\n",
        " - Simplifies Code: Cleaner syntax for complex iterators using loops and logic.\n",
        "\n",
        " - Improves Performance: Useful when handling large files, datasets, or computations.\n",
        "\n",
        " Example:\n",
        "\n",
        "def my_gen():\n",
        "\n",
        "  for i in range(1000000):\n",
        "\n",
        "   yield i\n",
        "\n",
        "vs\n",
        "\n",
        "def my_func():\n",
        "\n",
        "return [i for i in range(1000000)]\n",
        "\n",
        "8. What is a lambda function in Python and when is it typically used?\n",
        " - A lambda function in Python is a small, anonymous function defined using the lambda keyword. It can take any number of arguments but has only one expression, which is evaluated and returned.\n",
        "\n",
        " - Lambda functions are typically used:\n",
        "\n",
        "    - For short, simple functions that are not reused elsewhere.\n",
        "\n",
        "    - As arguments to higher-order functions, like:\n",
        "\n",
        "    - map(), filter(), reduce(), sorted()\n",
        "\n",
        "    - In GUI programming or callbacks (e.g., in Tkinter).\n",
        "\n",
        "    - To keep code concise and readable in functional-style programming.\n",
        "\n",
        " Example:\n",
        "\n",
        "square = lambda x: x * x\n",
        "\n",
        "print(square(5))  # Output: 25\n",
        "\n",
        "9. Explain the purpose and usage of the `map()` function in Python.\n",
        " - Purpose of map() Function in Python:\n",
        "  The map() function is used to apply a function to each item in an iterable (like a list, tuple, etc.) and returns a new iterable (a map object) with the results.\n",
        "It helps in writing cleaner and more efficient code by avoiding explicit loops.\n",
        "\n",
        "  - When to Use:\n",
        "      - To apply the same function to every item in a collection.\n",
        "\n",
        "      - To write concise functional-style code instead of traditional for loops.\n",
        "\n",
        "Example:\n",
        "\n",
        "celsius = [0, 10, 20, 30]\n",
        "\n",
        " Use map() with lambda to convert\n",
        "\n",
        "fahrenheit = list(map(lambda c: (c * 9/5) + 32, celsius))\n",
        "\n",
        "print(fahrenheit)\n",
        "\n",
        "Output:\n",
        "\n",
        "[32.0, 50.0, 68.0, 86.0]\n",
        "\n",
        "10.  What is the difference between `map()`, `reduce()`, and `filter()` functions in Python?\n",
        " - The map() function applies a given function to each element in an iterable, returning a new iterable with the transformed values without modifying the original data structure.\n",
        "\n",
        " Example:\n",
        "\n",
        "nums = [1, 2, 3]\n",
        "\n",
        "squared = list(map(lambda x: x**2, nums))  # [1, 4, 9]\n",
        "\n",
        " - The filter() function selects elements from an iterable based on a condition, returning only those elements for which the provided function returns True, effectively filtering the data.\n",
        "\n",
        " Example:\n",
        "\n",
        "from functools import reduce\n",
        "\n",
        "nums = [1, 2, 3, 4]\n",
        "\n",
        "product = reduce(lambda x, y: x * y, nums)  # 24\n",
        "\n",
        " - The reduce() function, from the functools module, applies a function cumulatively to the items of an iterable, reducing it to a single value by performing repeated operations like summing or multiplying.\n",
        "\n",
        "Example:\n",
        "\n",
        "nums = [1, 2, 3, 4, 5]\n",
        "\n",
        "even = list(filter(lambda x: x % 2 == 0, nums))  # [2, 4]\n",
        "\n",
        "\n",
        "11.  write the internal mechanism for sum operation using  reduce function on this given\n",
        "list:[47,11,42,13];"
      ],
      "metadata": {
        "id": "vXrnNJvpOcvA"
      }
    },
    {
      "cell_type": "code",
      "source": [
        "from google.colab import files\n",
        "uploaded = files.upload()"
      ],
      "metadata": {
        "colab": {
          "base_uri": "https://localhost:8080/",
          "height": 74
        },
        "id": "TRWRSBSYOOK0",
        "outputId": "3a0bfa59-5997-4882-e5d3-76fe419ac02d"
      },
      "execution_count": null,
      "outputs": [
        {
          "output_type": "display_data",
          "data": {
            "text/plain": [
              "<IPython.core.display.HTML object>"
            ],
            "text/html": [
              "\n",
              "     <input type=\"file\" id=\"files-a541badf-d23e-47c7-9f7c-76704bba9a12\" name=\"files[]\" multiple disabled\n",
              "        style=\"border:none\" />\n",
              "     <output id=\"result-a541badf-d23e-47c7-9f7c-76704bba9a12\">\n",
              "      Upload widget is only available when the cell has been executed in the\n",
              "      current browser session. Please rerun this cell to enable.\n",
              "      </output>\n",
              "      <script>// Copyright 2017 Google LLC\n",
              "//\n",
              "// Licensed under the Apache License, Version 2.0 (the \"License\");\n",
              "// you may not use this file except in compliance with the License.\n",
              "// You may obtain a copy of the License at\n",
              "//\n",
              "//      http://www.apache.org/licenses/LICENSE-2.0\n",
              "//\n",
              "// Unless required by applicable law or agreed to in writing, software\n",
              "// distributed under the License is distributed on an \"AS IS\" BASIS,\n",
              "// WITHOUT WARRANTIES OR CONDITIONS OF ANY KIND, either express or implied.\n",
              "// See the License for the specific language governing permissions and\n",
              "// limitations under the License.\n",
              "\n",
              "/**\n",
              " * @fileoverview Helpers for google.colab Python module.\n",
              " */\n",
              "(function(scope) {\n",
              "function span(text, styleAttributes = {}) {\n",
              "  const element = document.createElement('span');\n",
              "  element.textContent = text;\n",
              "  for (const key of Object.keys(styleAttributes)) {\n",
              "    element.style[key] = styleAttributes[key];\n",
              "  }\n",
              "  return element;\n",
              "}\n",
              "\n",
              "// Max number of bytes which will be uploaded at a time.\n",
              "const MAX_PAYLOAD_SIZE = 100 * 1024;\n",
              "\n",
              "function _uploadFiles(inputId, outputId) {\n",
              "  const steps = uploadFilesStep(inputId, outputId);\n",
              "  const outputElement = document.getElementById(outputId);\n",
              "  // Cache steps on the outputElement to make it available for the next call\n",
              "  // to uploadFilesContinue from Python.\n",
              "  outputElement.steps = steps;\n",
              "\n",
              "  return _uploadFilesContinue(outputId);\n",
              "}\n",
              "\n",
              "// This is roughly an async generator (not supported in the browser yet),\n",
              "// where there are multiple asynchronous steps and the Python side is going\n",
              "// to poll for completion of each step.\n",
              "// This uses a Promise to block the python side on completion of each step,\n",
              "// then passes the result of the previous step as the input to the next step.\n",
              "function _uploadFilesContinue(outputId) {\n",
              "  const outputElement = document.getElementById(outputId);\n",
              "  const steps = outputElement.steps;\n",
              "\n",
              "  const next = steps.next(outputElement.lastPromiseValue);\n",
              "  return Promise.resolve(next.value.promise).then((value) => {\n",
              "    // Cache the last promise value to make it available to the next\n",
              "    // step of the generator.\n",
              "    outputElement.lastPromiseValue = value;\n",
              "    return next.value.response;\n",
              "  });\n",
              "}\n",
              "\n",
              "/**\n",
              " * Generator function which is called between each async step of the upload\n",
              " * process.\n",
              " * @param {string} inputId Element ID of the input file picker element.\n",
              " * @param {string} outputId Element ID of the output display.\n",
              " * @return {!Iterable<!Object>} Iterable of next steps.\n",
              " */\n",
              "function* uploadFilesStep(inputId, outputId) {\n",
              "  const inputElement = document.getElementById(inputId);\n",
              "  inputElement.disabled = false;\n",
              "\n",
              "  const outputElement = document.getElementById(outputId);\n",
              "  outputElement.innerHTML = '';\n",
              "\n",
              "  const pickedPromise = new Promise((resolve) => {\n",
              "    inputElement.addEventListener('change', (e) => {\n",
              "      resolve(e.target.files);\n",
              "    });\n",
              "  });\n",
              "\n",
              "  const cancel = document.createElement('button');\n",
              "  inputElement.parentElement.appendChild(cancel);\n",
              "  cancel.textContent = 'Cancel upload';\n",
              "  const cancelPromise = new Promise((resolve) => {\n",
              "    cancel.onclick = () => {\n",
              "      resolve(null);\n",
              "    };\n",
              "  });\n",
              "\n",
              "  // Wait for the user to pick the files.\n",
              "  const files = yield {\n",
              "    promise: Promise.race([pickedPromise, cancelPromise]),\n",
              "    response: {\n",
              "      action: 'starting',\n",
              "    }\n",
              "  };\n",
              "\n",
              "  cancel.remove();\n",
              "\n",
              "  // Disable the input element since further picks are not allowed.\n",
              "  inputElement.disabled = true;\n",
              "\n",
              "  if (!files) {\n",
              "    return {\n",
              "      response: {\n",
              "        action: 'complete',\n",
              "      }\n",
              "    };\n",
              "  }\n",
              "\n",
              "  for (const file of files) {\n",
              "    const li = document.createElement('li');\n",
              "    li.append(span(file.name, {fontWeight: 'bold'}));\n",
              "    li.append(span(\n",
              "        `(${file.type || 'n/a'}) - ${file.size} bytes, ` +\n",
              "        `last modified: ${\n",
              "            file.lastModifiedDate ? file.lastModifiedDate.toLocaleDateString() :\n",
              "                                    'n/a'} - `));\n",
              "    const percent = span('0% done');\n",
              "    li.appendChild(percent);\n",
              "\n",
              "    outputElement.appendChild(li);\n",
              "\n",
              "    const fileDataPromise = new Promise((resolve) => {\n",
              "      const reader = new FileReader();\n",
              "      reader.onload = (e) => {\n",
              "        resolve(e.target.result);\n",
              "      };\n",
              "      reader.readAsArrayBuffer(file);\n",
              "    });\n",
              "    // Wait for the data to be ready.\n",
              "    let fileData = yield {\n",
              "      promise: fileDataPromise,\n",
              "      response: {\n",
              "        action: 'continue',\n",
              "      }\n",
              "    };\n",
              "\n",
              "    // Use a chunked sending to avoid message size limits. See b/62115660.\n",
              "    let position = 0;\n",
              "    do {\n",
              "      const length = Math.min(fileData.byteLength - position, MAX_PAYLOAD_SIZE);\n",
              "      const chunk = new Uint8Array(fileData, position, length);\n",
              "      position += length;\n",
              "\n",
              "      const base64 = btoa(String.fromCharCode.apply(null, chunk));\n",
              "      yield {\n",
              "        response: {\n",
              "          action: 'append',\n",
              "          file: file.name,\n",
              "          data: base64,\n",
              "        },\n",
              "      };\n",
              "\n",
              "      let percentDone = fileData.byteLength === 0 ?\n",
              "          100 :\n",
              "          Math.round((position / fileData.byteLength) * 100);\n",
              "      percent.textContent = `${percentDone}% done`;\n",
              "\n",
              "    } while (position < fileData.byteLength);\n",
              "  }\n",
              "\n",
              "  // All done.\n",
              "  yield {\n",
              "    response: {\n",
              "      action: 'complete',\n",
              "    }\n",
              "  };\n",
              "}\n",
              "\n",
              "scope.google = scope.google || {};\n",
              "scope.google.colab = scope.google.colab || {};\n",
              "scope.google.colab._files = {\n",
              "  _uploadFiles,\n",
              "  _uploadFilesContinue,\n",
              "};\n",
              "})(self);\n",
              "</script> "
            ]
          },
          "metadata": {}
        },
        {
          "output_type": "stream",
          "name": "stdout",
          "text": [
            "Saving CODE.jpg to CODE.jpg\n"
          ]
        }
      ]
    },
    {
      "cell_type": "markdown",
      "source": [
        "# PRACTICAL QUESTIONS"
      ],
      "metadata": {
        "id": "kqU8w5T69Ckq"
      }
    },
    {
      "cell_type": "markdown",
      "source": [
        "1.  Write a Python function that takes a list of numbers as input and returns the sum of all even numbers in the list"
      ],
      "metadata": {
        "id": "mTqPkeMz9KRC"
      }
    },
    {
      "cell_type": "code",
      "source": [
        "def sum_of_even_numbers(numbers):\n",
        "    return sum(num for num in numbers if num % 2 == 0)\n",
        "\n",
        "-  Example usage:\n",
        "my_list = [1, 2, 3, 4, 5, 6]\n",
        "print(sum_of_even_numbers(my_list))\n",
        "# Output: 12"
      ],
      "metadata": {
        "id": "2MYCSS5n9RLq"
      },
      "execution_count": null,
      "outputs": []
    },
    {
      "cell_type": "markdown",
      "source": [
        "2. Create a Python function that accepts a string and returns the reverse of that string."
      ],
      "metadata": {
        "id": "AJ_FFZHT9x_6"
      }
    },
    {
      "cell_type": "code",
      "source": [
        "def reverse_string(text):\n",
        "    return text[::-1]\n",
        "\n",
        " # Example usage:\n",
        "input_str = \"hello\"\n",
        "print(reverse_string(input_str))\n",
        "# Output: \"olleh\""
      ],
      "metadata": {
        "id": "am2stsBl96Nr"
      },
      "execution_count": null,
      "outputs": []
    },
    {
      "cell_type": "markdown",
      "source": [
        "3. Implement a Python function that takes a list of integers and returns a new list containing the squares of each number."
      ],
      "metadata": {
        "id": "eRVIj2sg-RSy"
      }
    },
    {
      "cell_type": "code",
      "source": [
        "def square_numbers(numbers):\n",
        "    return [num ** 2 for num in numbers]\n",
        "\n",
        "# Example usage:\n",
        "my_list = [1, 2, 3, 4, 5]\n",
        "print(square_numbers(my_list))\n",
        "# Output: [1, 4, 9, 16, 25]"
      ],
      "metadata": {
        "id": "PbfXhbft-bVA"
      },
      "execution_count": null,
      "outputs": []
    },
    {
      "cell_type": "markdown",
      "source": [
        "4.  Write a Python function that checks if a given number is prime or not from 1 to 200"
      ],
      "metadata": {
        "id": "TdxGGUkP-3nn"
      }
    },
    {
      "cell_type": "code",
      "source": [
        "def is_prime(n):\n",
        "    if n < 2 or n > 200:\n",
        "        return False  # Not in the valid range or less than 2\n",
        "    for i in range(2, int(n**0.5) + 1):\n",
        "        if n % i == 0:\n",
        "            return False\n",
        "    return True\n",
        "\n",
        "    # Example usage:\n",
        "print(is_prime(7))    # Output: True\n",
        "print(is_prime(150))  # Output: False\n",
        "print(is_prime(1))    # Output: False\n",
        "print(is_prime(199))  # Output: True"
      ],
      "metadata": {
        "id": "acrj_Xoe-8rG"
      },
      "execution_count": null,
      "outputs": []
    },
    {
      "cell_type": "markdown",
      "source": [
        "5. Create an iterator class in Python that generates the Fibonacci sequence up to a specified number of terms."
      ],
      "metadata": {
        "id": "TUZWJMz8_S7l"
      }
    },
    {
      "cell_type": "code",
      "source": [
        "class FibonacciIterator:\n",
        "    def __init__(self, max_terms):\n",
        "        self.max_terms = max_terms\n",
        "        self.count = 0\n",
        "        self.a, self.b = 0, 1\n",
        "\n",
        "    def __iter__(self):\n",
        "        return self\n",
        "\n",
        "    def __next__(self):\n",
        "        if self.count >= self.max_terms:\n",
        "            raise StopIteration\n",
        "        fib = self.a\n",
        "        self.a, self.b = self.b, self.a + self.b\n",
        "        self.count += 1\n",
        "        return fib\n",
        "\n",
        "# Example usage:\n",
        "fib = FibonacciIterator(10)\n",
        "for num in fib:\n",
        "    print(num, end=' ')\n",
        "# Output: 0 1 1 2 3 5 8 13 21 34"
      ],
      "metadata": {
        "id": "7E294MxO_2b0"
      },
      "execution_count": null,
      "outputs": []
    },
    {
      "cell_type": "markdown",
      "source": [
        "6. Write a generator function in Python that yields the powers of 2 up to a given exponent."
      ],
      "metadata": {
        "id": "3sFSghCcAmqu"
      }
    },
    {
      "cell_type": "code",
      "source": [
        "def powers_of_two(max_exponent):\n",
        "    for i in range(max_exponent + 1):\n",
        "        yield 2 ** i\n",
        "\n",
        "# Example usage:\n",
        "for power in powers_of_two(5):\n",
        "    print(power, end=' ')\n",
        "# Output: 1 2 4 8 16 32"
      ],
      "metadata": {
        "id": "exIHLQ7JAmKI"
      },
      "execution_count": null,
      "outputs": []
    },
    {
      "cell_type": "markdown",
      "source": [
        "7. Implement a generator function that reads a file line by line and yields each line as a string."
      ],
      "metadata": {
        "id": "K0f7jf5GA6My"
      }
    },
    {
      "cell_type": "code",
      "source": [
        "def read_file_lines(filename):\n",
        "    with open(filename, 'r') as file:\n",
        "        for line in file:\n",
        "            yield line.rstrip('\\n')  # Remove trailing newline character\n",
        "\n",
        "# Example usage:\n",
        "# for line in read_file_lines('example.txt'):\n",
        "#     print(line)"
      ],
      "metadata": {
        "id": "J63h2A3RBB9l"
      },
      "execution_count": 1,
      "outputs": []
    },
    {
      "cell_type": "markdown",
      "source": [
        "8. Use a lambda function in Python to sort a list of tuples based on the second element of each tuple."
      ],
      "metadata": {
        "id": "MH5XbKyDBlyR"
      }
    },
    {
      "cell_type": "code",
      "source": [
        "# List of tuples\n",
        "data = [(1, 3), (4, 1), (2, 2), (5, 0)]\n",
        "\n",
        "# Sort based on second element\n",
        "sorted_data = sorted(data, key=lambda x: x[1])\n",
        "\n",
        "print(sorted_data)\n",
        "# Output: [(5, 0), (4, 1), (2, 2), (1, 3)]"
      ],
      "metadata": {
        "id": "mXZklW-LBuvH"
      },
      "execution_count": null,
      "outputs": []
    },
    {
      "cell_type": "markdown",
      "source": [
        "9. Write a Python program that uses `map()` to convert a list of temperatures from Celsius to Fahrenheit."
      ],
      "metadata": {
        "id": "vMb2yBzrCBxl"
      }
    },
    {
      "cell_type": "code",
      "source": [
        "# Celsius to Fahrenheit conversion formula: F = (C * 9/5) + 32\n",
        "\n",
        "def celsius_to_fahrenheit(c):\n",
        "    return (c * 9/5) + 32\n",
        "\n",
        "# List of temperatures in Celsius\n",
        "celsius_temps = [0, 20, 37, 100]\n",
        "\n",
        "# Convert using map()\n",
        "fahrenheit_temps = list(map(celsius_to_fahrenheit, celsius_temps))\n",
        "\n",
        "print(fahrenheit_temps)\n",
        "# Output: [32.0, 68.0, 98.6, 212.0]"
      ],
      "metadata": {
        "id": "A8aAspfGCHH-"
      },
      "execution_count": null,
      "outputs": []
    },
    {
      "cell_type": "markdown",
      "source": [
        "10.  Create a Python program that uses `filter()` to remove all the vowels from a given string."
      ],
      "metadata": {
        "id": "CayOyVb_C2D6"
      }
    },
    {
      "cell_type": "code",
      "source": [
        "def remove_vowels(text):\n",
        "    vowels = 'aeiouAEIOU'\n",
        "    return ''.join(filter(lambda char: char not in vowels, text))\n",
        "\n",
        "# Example usage\n",
        "input_str = \"Hello World\"\n",
        "result = remove_vowels(input_str)\n",
        "print(result)\n",
        "# Output: Hll Wrld"
      ],
      "metadata": {
        "id": "pmj2Mv3EC7At"
      },
      "execution_count": null,
      "outputs": []
    },
    {
      "cell_type": "markdown",
      "source": [
        "11. Imagine an accounting routine used in a book shop. It works on a list with sublists, which look like this:\n",
        "\n",
        "order number    Book Title and Author          quantity      price per item  \n",
        "34587           Learning Python, Mark Lutz          4             40.95\n",
        "98762           Programming Python, Mark Lutz       5             56.80\n",
        "77226           Head First Python, Paul Barry       3             32.95\n",
        "88112           Einfuhrung in Python3, Bernd Klein  3             24.99\n",
        "\n",
        "Write a Python program, which returns a list with 2-tuples. Each tuple consists of the order number and the\n",
        "product of the price per item and the quantity. The product should be increased by 10,- € if the value of the\n",
        "order is smaller than 100,00 €.\n",
        "\n",
        "Write a Python program using lambda and map."
      ],
      "metadata": {
        "id": "WqCDY_khP1gU"
      }
    },
    {
      "cell_type": "code",
      "source": [
        "Each item in the list represents an order:\n",
        "\n",
        "# Format: [order_number, book_title_author, quantity, price_per_item]\n",
        "orders = [\n",
        "    [34587, \"Learning Python, Mark Lutz\", 4, 40.95],\n",
        "    [98762, \"Programming Python, Mark Lutz\", 5, 56.80],\n",
        "    [77226, \"Head First Python, Paul Barry\", 3, 32.95],\n",
        "    [88112, \"Einfuhrung in Python3, Bernd Klein\", 3, 24.99]\n",
        "]\n",
        "\n",
        "Python Program Using lambda + map:\n",
        "\n",
        "orders = [\n",
        "    [34587, \"Learning Python, Mark Lutz\", 4, 40.95],\n",
        "    [98762, \"Programming Python, Mark Lutz\", 5, 56.80],\n",
        "    [77226, \"Head First Python, Paul Barry\", 3, 32.95],\n",
        "    [88112, \"Einfuhrung in Python3, Bernd Klein\", 3, 24.99]\n",
        "]\n",
        "\n",
        "# Using map and lambda\n",
        "invoice = list(map(\n",
        "    lambda order: (order[0], round(order[2] * order[3] + (10 if order[2] * order[3] < 100 else 0), 2)),\n",
        "    orders\n",
        "))\n",
        "\n",
        "print(invoice)\n",
        "\n",
        "Output:\n",
        "[(34587, 173.8), (98762, 284.0), (77226, 108.85), (88112, 84.97)]\n",
        "\n",
        "NOTE: round(..., 2) is used to limit to 2 decimal places (optional but neat for prices)."
      ],
      "metadata": {
        "id": "vmj28Tw8WQsn"
      },
      "execution_count": null,
      "outputs": []
    }
  ]
}